{
 "cells": [
  {
   "cell_type": "markdown",
   "metadata": {},
   "source": [
    "# Explanation\n",
    "## I merged two famous hash function:\n",
    "## * Bernstein hash (called djb2)\n",
    "## * CBU hash from the CanterBury University, New Zeland\n",
    "\n",
    "### The idea is start the hash with a prime number 5953. It was mabe by sum the birthday years of Simone (1957... wrote badly but the number was already prime), Anna 1999 and Luca 1997.\n",
    "\n",
    "### For the shift and sum i use another \"luky\" numbers different from the Bernstein's \"luky\" number (33). \n",
    "\n",
    "### The ordinal of a character is really small, for this i want to mutiplicate it by 7 (the number of perfection) in the following way: shift of 3 and sub the number: $7=2^3-1$.\n",
    "\n",
    "### By an analysis of the file passwords1.txt and by the formula [1] at the [Ackermoon](https://hackernoon.com/probabilistic-data-structures-bloom-filter-5374112a7832) we choose a binary vector of length $4294967296$ and 10 hash function.\n",
    "\n",
    "### We choose a number of around $4000000000$ bits is because it is big enough to be saved and load in a few minutes in case of erros; \n",
    "### the number $4294967296$ it's to optimize the modulo operation at the end of the hash function; A modulo of number by a power of two can be compute with only a left shift of the exponent of the two\n",
    "\n",
    "### 10 hash functions it's to decrese the probability to obtain a false positive\n",
    "\n",
    "### the probability to obtain a false positive, by the formula is $1.4949314800622724 e^{-7}$\n",
    "\n",
    "### As you can se following, the hash function is uniformally distributed:"
   ]
  },
  {
   "cell_type": "code",
   "execution_count": 4,
   "metadata": {},
   "outputs": [
    {
     "name": "stdout",
     "output_type": "stream",
     "text": [
      "12.220977067947388\n",
      "800000\n"
     ]
    },
    {
     "data": {
      "text/plain": [
       "(array([78821., 81222., 78854., 80959., 79655., 79760., 80919., 79694.,\n",
       "        79797., 80319.]),\n",
       " array([3.78300000e+04, 4.29528816e+08, 8.59019801e+08, 1.28851079e+09,\n",
       "        1.71800177e+09, 2.14749276e+09, 2.57698374e+09, 3.00647473e+09,\n",
       "        3.43596571e+09, 3.86545670e+09, 4.29494769e+09]),\n",
       " <a list of 10 Patch objects>)"
      ]
     },
     "execution_count": 4,
     "metadata": {},
     "output_type": "execute_result"
    },
    {
     "data": {
      "image/png": "[encoded data removed]",
      "text/plain": [
       "<Figure size 432x288 with 1 Axes>"
      ]
     },
     "metadata": {
      "needs_background": "light"
     },
     "output_type": "display_data"
    }
   ],
   "source": [
    "import matplotlib.pyplot as pp\n",
    "import numpy as np\n",
    "import time\n",
    "import multiprocessing as mp\n",
    "\n",
    "def TiagoHashFunctionProva(s, SIZE, prime):\n",
    "    hash=5953\n",
    "    for i in range(len(s)):\n",
    "        hash=((hash<<prime)+hash)*((ord(s[i])<<3))-ord(s[i])#it's uniformuly distribuited\n",
    "    return abs(hash) & (SIZE-1) #because the size it's a power of 2, we can compute the modulo by an bitwise AND; effecenze encrese\n",
    "\n",
    "SIZE=4294967296\n",
    "lukyNumber=[17, 31, 63, 127, 129, 137, 151, 163, 181, 197]\n",
    "start=time.time()\n",
    "i=0\n",
    "l=[]\n",
    "with open('./DATA/passwords2.txt', 'r') as f:\n",
    "    for password in f:\n",
    "        i+=1\n",
    "        if i>80000:\n",
    "            break\n",
    "        result=[TiagoHashFunctionProva(password, SIZE, p) for p in lukyNumber]#, 129, 137, 151, 163, 181, 197\n",
    "        l+=result\n",
    "print(time.time()-start)\n",
    "print(len(l))\n",
    "pp.hist(l)"
   ]
  },
  {
   "cell_type": "code",
   "execution_count": null,
   "metadata": {},
   "outputs": [],
   "source": [
    "import matplotlib.pyplot as pp\n",
    "import numpy as np\n",
    "import time\n",
    "import sys\n",
    "#SIZE=17179869183\n",
    "myBloomFilter=BloomFilter()#Create a new bloom filter\n",
    "start=time.time()\n",
    "print('start insert')\n",
    "s1=time.time()\n",
    "with open('./DATA/passwords1.txt', 'r') as f:\n",
    "    for password in f:\n",
    "        myBloomFilter.insert(password.strip('\\n'))#population of the filter\n",
    "            \n",
    "myBloomFilter.save('./DATA/bloomFilter')#save the filter into a file fore security\n",
    "dup=0\n",
    "print('start check')\n",
    "with open('./DATA/passwords2.txt', 'r') as f: \n",
    "    with open('./DATA/duplicates.txt', 'w') as duplicates:\n",
    "        for password in f:\n",
    "            check=myBloomFilter.check(password.strip('\\n'))#checking\n",
    "            if check:\n",
    "                duplicates.write(password+'\\n')#save a 'possibilty duplicate' into a file\n",
    "                dup+=1\n",
    "end=time.time()\n",
    "\n",
    "\n",
    "print('Number of hash function used: ', myBloomFilter.get_hash_number())\n",
    "print('Number of duplicates detected: ', dup)\n",
    "print('Probability of false positives: ', myBloomFilter.get_probability_false_positive())\n",
    "print('Execution time: ', end-start)"
   ]
  },
  {
   "cell_type": "code",
   "execution_count": 1,
   "metadata": {},
   "outputs": [],
   "source": [
    "import numpy as np\n",
    "import math\n",
    "import multiprocessing as mp\n",
    "class BloomFilter:\n",
    "    \n",
    "    def __init__(self, m=4294967296):#for me it's the maximum length for a numpy array\n",
    "                                        # if you change this number be sure that's a power of 2; \n",
    "                                        #it's important by the \n",
    "        print('Start to create the filter..')\n",
    "        self.SIZE=m\n",
    "        self.num_proc=10 #number of thread for paralleling processing\n",
    "        self.filter=np.zeros((self.SIZE), dtype=bool)#the filter\n",
    "        self.lukyNumbers=[17, 31, 63, 127, 129, 137, 151, 163, 181, 197]#the set to build 4 different hash function made from the hash function inside the class\n",
    "        print('Filter created succesfully!')\n",
    "        \n",
    "    def __str__(self):\n",
    "        return 'Dimension of the filter: {}'.format(self.SIZE)\n",
    "    \n",
    "    def hashFunction(self, s, SIZE, prime):#the hash function of the filter\n",
    "        hash=5953\n",
    "        for i in range(len(s)):\n",
    "            hash=((hash<<prime)+hash)*((ord(s[i])<<3))-ord(s[i])#it's uniformuly distribuited\n",
    "        return abs(hash) & (SIZE-1) #because the size it's a power of 2, we can compute the modulo by an bitwise AND; efficenty encrease\n",
    "        \n",
    "    def insert(self, s):#insert the string s in the filter\n",
    "        for p in self.lukyNumbers:#iterate over the number to differentiate the hash functions\n",
    "            key=self.hashFunction(s, self.SIZE, p) #calculate the hash\n",
    "            self.filter[key]=True#and set the filter\n",
    "            \n",
    "    def check(self, password):#check if a string is definitely in the filter or maybe not in the filter           \n",
    "        bits=[self.filter[self.hashFunction(password, self.SIZE, n)] for n in self.lukyNumbers]#obtain the bit of the filter\n",
    "        collision=True\n",
    "        for bit in bits:#scan the bits\n",
    "            if bit==False:# if we found a False bit\n",
    "                collision=False#we can conlude the password is defintely not in the filter\n",
    "                break#break the loop for efficenty\n",
    "        return collision\n",
    "    \n",
    "    def load(self, file):#load an existing numpy array filter; file must ends with .npy\n",
    "        print('Loading {} file...'.format(file))\n",
    "        self.filter=np.load(file)#load\n",
    "        self.m=len(self.filter)#and set the dimension\n",
    "        print('Loading complete succesfully!')\n",
    "        \n",
    "    def save(self, path_to_file):#save the filter into a numpy file \n",
    "        print('Saving into {} file..'.format(path_to_file))\n",
    "        np.save(path_to_file, self.filter)#save\n",
    "        print('Saving complete succesfully!')\n",
    "        \n",
    "    def get_filter(self):#return the filter inside\n",
    "        return self.filter\n",
    "    \n",
    "    def get_hash_number(self): #return the number of the hash functions used\n",
    "        return len(self.lukyNumbers)\n",
    "    \n",
    "    def get_probability_false_positive(self):#return the probility of a false positive\n",
    "        k=len(self.lukyNumbers)\n",
    "        n=100000000\n",
    "        return (1-math.exp(1)**((-k*n)/self.SIZE))**k"
   ]
  }
 ],
 "metadata": {
  "kernelspec": {
   "display_name": "Python 3",
   "language": "python",
   "name": "python3"
  },
  "language_info": {
   "codemirror_mode": {
    "name": "ipython",
    "version": 3
   },
   "file_extension": ".py",
   "mimetype": "text/x-python",
   "name": "python",
   "nbconvert_exporter": "python",
   "pygments_lexer": "ipython3",
   "version": "3.7.4"
  }
 },
 "nbformat": 4,
 "nbformat_minor": 4
}
